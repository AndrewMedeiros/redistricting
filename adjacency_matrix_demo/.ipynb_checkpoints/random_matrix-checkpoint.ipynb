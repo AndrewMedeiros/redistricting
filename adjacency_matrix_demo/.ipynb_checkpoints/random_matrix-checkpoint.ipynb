{
 "cells": [
  {
   "cell_type": "code",
   "execution_count": 8,
   "metadata": {},
   "outputs": [],
   "source": [
    "import numpy as np\n",
    "import scipy.linalg\n",
    "import random\n",
    "import networkx as nx\n",
    "import matplotlib.pyplot as plt\n",
    "import planarity\n",
    "import geopandas as gpd"
   ]
  },
  {
   "cell_type": "code",
   "execution_count": 9,
   "metadata": {},
   "outputs": [],
   "source": [
    "def rand_adj_mat(size=2):\n",
    "    m = np.zeros([size,size])\n",
    "    for i in range(size):\n",
    "        for j in range(i):\n",
    "            b = int(random.random()< .01)\n",
    "            m[i,j] = b\n",
    "            m[j,i] = b\n",
    "    return m\n",
    "\n",
    "\n",
    "def rand_conn_adj_mat(size=2):\n",
    "    x  = 0\n",
    "    while x == 0:\n",
    "        m = rand_adj_mat(size)\n",
    "        x = np.prod(scipy.linalg.eigvals(m)[0])\n",
    "    return m\n",
    "\n",
    "def rand_conn_er(size,p):\n",
    "    c = False\n",
    "    while not c:    \n",
    "        m = nx.fast_gnp_random_graph(size,p)\n",
    "        c = nx.is_connected(m)\n",
    "    return nx.adjacency_matrix(m)\n",
    "\n",
    "def rand_conn_nm(n,e):\n",
    "    c = False\n",
    "    while not c:\n",
    "        m = nx.gnm_random_graph(n,e)\n",
    "        c = nx.is_connected(m)\n",
    "    print(planarity.is_planar(m))\n",
    "    return nx.adjacency_matrix(m)"
   ]
  },
  {
   "cell_type": "code",
   "execution_count": 19,
   "metadata": {},
   "outputs": [],
   "source": [
    "\n"
   ]
  },
  {
   "cell_type": "code",
   "execution_count": 6,
   "metadata": {},
   "outputs": [],
   "source": [
    "\n",
    "n=dist.shape[0]\n",
    "h = []\n",
    "\n",
    "for i in range(500):\n",
    "    if i%50==0: print(i)\n",
    "    adj = rand_conn_adj_mat(dist.shape[0])\n",
    "    deg = np.diag(adj.sum(axis=0))\n",
    "    lap = deg - adj\n",
    "    evals = np.real(scipy.linalg.eigvals(lap).tolist())\n",
    "    evals = [e for e in evals if e>.1]\n",
    "    for l in evals: h.append(l)\n"
   ]
  },
  {
   "cell_type": "code",
   "execution_count": 2,
   "metadata": {},
   "outputs": [
    {
     "ename": "NameError",
     "evalue": "name 'plt' is not defined",
     "output_type": "error",
     "traceback": [
      "\u001b[0;31m---------------------------------------------------------------------------\u001b[0m",
      "\u001b[0;31mNameError\u001b[0m                                 Traceback (most recent call last)",
      "\u001b[0;32m<ipython-input-2-a865d45815bb>\u001b[0m in \u001b[0;36m<module>\u001b[0;34m()\u001b[0m\n\u001b[0;32m----> 1\u001b[0;31m \u001b[0mplt\u001b[0m\u001b[0;34m.\u001b[0m\u001b[0mhist\u001b[0m\u001b[0;34m(\u001b[0m\u001b[0mh\u001b[0m\u001b[0;34m,\u001b[0m\u001b[0mdensity\u001b[0m\u001b[0;34m=\u001b[0m\u001b[0;32mTrue\u001b[0m\u001b[0;34m,\u001b[0m\u001b[0mbins\u001b[0m\u001b[0;34m=\u001b[0m\u001b[0;36m30\u001b[0m\u001b[0;34m,\u001b[0m \u001b[0mrange\u001b[0m\u001b[0;34m=\u001b[0m\u001b[0;34m[\u001b[0m\u001b[0;36m0\u001b[0m\u001b[0;34m,\u001b[0m\u001b[0;36m15\u001b[0m\u001b[0;34m]\u001b[0m\u001b[0;34m)\u001b[0m\u001b[0;34m\u001b[0m\u001b[0m\n\u001b[0m\u001b[1;32m      2\u001b[0m \u001b[0md_e\u001b[0m \u001b[0;34m=\u001b[0m \u001b[0mnp\u001b[0m\u001b[0;34m.\u001b[0m\u001b[0mreal\u001b[0m\u001b[0;34m(\u001b[0m\u001b[0mscipy\u001b[0m\u001b[0;34m.\u001b[0m\u001b[0mlinalg\u001b[0m\u001b[0;34m.\u001b[0m\u001b[0meigvals\u001b[0m\u001b[0;34m(\u001b[0m\u001b[0mlap_d\u001b[0m\u001b[0;34m)\u001b[0m\u001b[0;34m)\u001b[0m\u001b[0;34m\u001b[0m\u001b[0m\n\u001b[1;32m      3\u001b[0m \u001b[0mrandom\u001b[0m\u001b[0;34m.\u001b[0m\u001b[0mshuffle\u001b[0m\u001b[0;34m(\u001b[0m\u001b[0md_e\u001b[0m\u001b[0;34m)\u001b[0m\u001b[0;34m\u001b[0m\u001b[0m\n\u001b[1;32m      4\u001b[0m \u001b[0;34m\u001b[0m\u001b[0m\n\u001b[1;32m      5\u001b[0m \u001b[0mplt\u001b[0m\u001b[0;34m.\u001b[0m\u001b[0maxvline\u001b[0m\u001b[0;34m(\u001b[0m\u001b[0mmin\u001b[0m\u001b[0;34m(\u001b[0m\u001b[0md_e\u001b[0m\u001b[0;34m)\u001b[0m\u001b[0;34m,\u001b[0m \u001b[0mcolor\u001b[0m\u001b[0;34m=\u001b[0m\u001b[0;34m'k'\u001b[0m\u001b[0;34m,\u001b[0m \u001b[0mlinestyle\u001b[0m\u001b[0;34m=\u001b[0m\u001b[0;34m'dashed'\u001b[0m\u001b[0;34m,\u001b[0m \u001b[0mlinewidth\u001b[0m\u001b[0;34m=\u001b[0m\u001b[0;36m1\u001b[0m\u001b[0;34m)\u001b[0m\u001b[0;34m\u001b[0m\u001b[0m\n",
      "\u001b[0;31mNameError\u001b[0m: name 'plt' is not defined"
     ]
    }
   ],
   "source": [
    "plt.hist(h,density=True,bins=30, range=[0,15])\n",
    "random.shuffle(d_e)\n",
    "\n",
    "plt.axvline(min(d_e), color='k', linestyle='dashed', linewidth=1)\n",
    "plt.axvline(max(d_e), color='k', linestyle='dashed', linewidth=1)\n",
    "\n"
   ]
  },
  {
   "cell_type": "code",
   "execution_count": 47,
   "metadata": {},
   "outputs": [],
   "source": [
    "new_vals = []\n",
    "df_cd = gpd.read_file('cd_us.shp')\n",
    "state_no='all'\n",
    "# (somewhat unnecessarily) loop over all rows in the DataFrame\n",
    "for ind, row in df_cd.iterrows():\n",
    "\n",
    "    # grab the identifying information\n",
    "    fcode = row['STATECD']\n",
    "    st = row['STATEFP']\n",
    "    fn = fcode[0:2]+'_'+fcode\n",
    "\n",
    "    # if this row is something we need to compute:\n",
    "\n",
    "    if st==state_no or state_no=='all':\n",
    "    # read in the corresponding district's adjacency matrix\n",
    "        # [see README in the adj_mats folder for more info]\n",
    "        adj = np.loadtxt('adj_mats/'+fn+'_dist.txt',\n",
    "                         delimiter=',')\n",
    "\n",
    "        # make sure it's an integer matrix\n",
    "        adj = adj.astype(int)\n",
    "\n",
    "        g = nx.from_numpy_matrix(adj)\n",
    "        # you can build a laplacian matrix\n",
    "        deg = np.diag(adj.sum(axis=0))\n",
    "        lap = deg - adj\n",
    "        evals = np.real(scipy.linalg.eigvals(lap)).tolist()\n",
    "        new_vals += [x for x in evals if x>0]"
   ]
  },
  {
   "cell_type": "code",
   "execution_count": 46,
   "metadata": {},
   "outputs": [
    {
     "name": "stderr",
     "output_type": "stream",
     "text": [
      "/home/zachary/.local/lib/python3.6/site-packages/numpy/lib/function_base.py:838: RuntimeWarning: invalid value encountered in true_divide\n",
      "  return n/db/n.sum(), bin_edges\n"
     ]
    },
    {
     "data": {
      "text/plain": [
       "(array([nan, nan, nan, nan, nan, nan, nan, nan, nan, nan, nan, nan, nan,\n",
       "        nan, nan, nan, nan, nan, nan, nan]),\n",
       " array([ 0.  ,  1.25,  2.5 ,  3.75,  5.  ,  6.25,  7.5 ,  8.75, 10.  ,\n",
       "        11.25, 12.5 , 13.75, 15.  , 16.25, 17.5 , 18.75, 20.  , 21.25,\n",
       "        22.5 , 23.75, 25.  ]),\n",
       " <a list of 20 Patch objects>)"
      ]
     },
     "execution_count": 46,
     "metadata": {},
     "output_type": "execute_result"
    },
    {
     "data": {
      "image/png": "[encoded data removed]",
      "text/plain": [
       "<Figure size 432x288 with 1 Axes>"
      ]
     },
     "metadata": {},
     "output_type": "display_data"
    }
   ],
   "source": [
    "\n",
    "dist = np.loadtxt('adj_mats/42_4207_dist.txt',delimiter=',')\n",
    "lap_d  = np.diag(dist.sum(axis=0)) - dist\n",
    "d_e = np.real(scipy.linalg.eigvals(lap_d))\n",
    "\n",
    "dist = np.loadtxt('adj_mats/42_4218_dist.txt',delimiter=',')\n",
    "lap_d  = np.diag(dist.sum(axis=0)) - dist\n",
    "d_t = np.real(scipy.linalg.eigvals(lap_d))\n",
    "\n",
    "\n",
    "\n",
    "#plt.hist(new_vals, density=True, bins=100, range = [0,30])\n",
    "random.shuffle(d_e)\n",
    "random.shuffle(d_t)\n",
    "#for c in d_e[:20]: plt.axvline(c, color='k', linestyle='dashed', linewidth=1)\n",
    "#for c in d_t[:20]: plt.axvline(c, color='r', linestyle='dashed', linewidth=1)\n",
    "\n",
    "plt.hist(d_e, bins=20, alpha=.3, density=True, color='green',range=[0,25])\n",
    "plt.hist(d_t, bins=20, alpha = .3, density= True, color='red',range=[0,25])\n",
    "plt.hist(new_vals, bins=20, alpha=.3, density=True, color='blue', range=[0,25])"
   ]
  }
 ],
 "metadata": {
  "kernelspec": {
   "display_name": "Python 3",
   "language": "python",
   "name": "python3"
  },
  "language_info": {
   "codemirror_mode": {
    "name": "ipython",
    "version": 3
   },
   "file_extension": ".py",
   "mimetype": "text/x-python",
   "name": "python",
   "nbconvert_exporter": "python",
   "pygments_lexer": "ipython3",
   "version": "3.6.5"
  }
 },
 "nbformat": 4,
 "nbformat_minor": 2
}
