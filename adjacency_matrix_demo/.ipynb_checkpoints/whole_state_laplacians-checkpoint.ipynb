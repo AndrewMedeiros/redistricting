{
 "cells": [
  {
   "cell_type": "code",
   "execution_count": 14,
   "metadata": {},
   "outputs": [],
   "source": [
    "# imports\n",
    "import geopandas as gpd\n",
    "import pysal as ps\n",
    "import numpy as np\n",
    "import sys\n",
    "import math\n",
    "import scipy.linalg\n",
    "import scipy.sparse\n",
    "import networkx as nx\n",
    "import random\n",
    "import matplotlib.pyplot as plt\n",
    "import csv\n",
    "import utm\n",
    "from colormap import rgb2hex\n",
    "import stateplane\n",
    "import networkx.linalg.spectrum"
   ]
  },
  {
   "cell_type": "code",
   "execution_count": null,
   "metadata": {},
   "outputs": [],
   "source": [
    "\n",
    "\n"
   ]
  },
  {
   "cell_type": "code",
   "execution_count": 37,
   "metadata": {},
   "outputs": [],
   "source": [
    "state_no = '06'"
   ]
  },
  {
   "cell_type": "code",
   "execution_count": 25,
   "metadata": {},
   "outputs": [
    {
     "name": "stdout",
     "output_type": "stream",
     "text": [
      "[]\n"
     ]
    }
   ],
   "source": [
    "\n",
    "\n",
    "adj = scipy.sparse.load_npz('adj_mats/'+state_no + '_full.npz').todense().astype(int)\n",
    "G = nx.from_numpy_matrix(adj)\n",
    "lap = networkx.normalized_laplacian_matrix(G).todense()\n",
    "evals = np.real(scipy.linalg.eigvals(lap).tolist())\n",
    "print([x for x in evals if x<0])\n",
    "#evals2.sort()"
   ]
  },
  {
   "cell_type": "code",
   "execution_count": null,
   "metadata": {},
   "outputs": [],
   "source": [
    "\n",
    "\n",
    "adj2 = scipy.sparse.load_npz('adj_mats/'+state_no + '_blocks.npz').todense().astype(int)\n",
    "G2 = nx.from_numpy_matrix(adj2)\n",
    "lap2 = networkx.normalized_laplacian_matrix(G2).todense()\n",
    "evals2 = np.real(scipy.linalg.eigvals(lap2).tolist())\n",
    "print([x for x in evals2 if x<0])\n",
    "#evals2.sort()"
   ]
  },
  {
   "cell_type": "code",
   "execution_count": null,
   "metadata": {},
   "outputs": [],
   "source": [
    "evals.sort()\n",
    "evals2.sort()\n",
    "plt.figure(figsize=(12,12))\n",
    "plt.plot(range(len(evals)),evals,color='r')\n",
    "plt.plot(range(len(evals2)),evals2,color='b')\n",
    "diff = [x-y for x,y in zip(evals,evals2)]\n",
    "#diff.sort()\n",
    "plt.plot(range(len(evals)),diff,color='g')\n",
    "print(evals2[-50:])\n"
   ]
  },
  {
   "cell_type": "code",
   "execution_count": null,
   "metadata": {},
   "outputs": [],
   "source": [
    "plt.hist(evals2,density=True)"
   ]
  }
 ],
 "metadata": {
  "kernelspec": {
   "display_name": "Python 3",
   "language": "python",
   "name": "python3"
  },
  "language_info": {
   "codemirror_mode": {
    "name": "ipython",
    "version": 3
   },
   "file_extension": ".py",
   "mimetype": "text/x-python",
   "name": "python",
   "nbconvert_exporter": "python",
   "pygments_lexer": "ipython3",
   "version": "3.6.5"
  }
 },
 "nbformat": 4,
 "nbformat_minor": 2
}
