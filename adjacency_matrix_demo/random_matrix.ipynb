{
 "cells": [
  {
   "cell_type": "code",
   "execution_count": 48,
   "metadata": {},
   "outputs": [],
   "source": [
    "import numpy as np\n",
    "import scipy.linalg\n",
    "import random\n",
    "import networkx as nx\n",
    "import matplotlib.pyplot as plt\n",
    "import planarity"
   ]
  },
  {
   "cell_type": "code",
   "execution_count": null,
   "metadata": {},
   "outputs": [],
   "source": []
  },
  {
   "cell_type": "code",
   "execution_count": 49,
   "metadata": {},
   "outputs": [],
   "source": [
    "def rand_adj_mat(size=2):\n",
    "    m = np.zeros([size,size])\n",
    "    for i in range(size):\n",
    "        for j in range(i):\n",
    "            b = int(random.random()< .01)\n",
    "            m[i,j] = b\n",
    "            m[j,i] = b\n",
    "    return m\n",
    "\n",
    "\n",
    "def rand_conn_adj_mat(size=2):\n",
    "    x  = 0\n",
    "    while x == 0:\n",
    "        m = rand_adj_mat(size)\n",
    "        x = np.prod(scipy.linalg.eigvals(m)[0])\n",
    "    return m\n",
    "\n",
    "def rand_conn_er(size,p):\n",
    "    c = False\n",
    "    while not c:    \n",
    "        m = nx.fast_gnp_random_graph(size,p)\n",
    "        c = nx.is_connected(m)\n",
    "    return nx.adjacency_matrix(m)\n",
    "\n",
    "def rand_conn_nm(n,e):\n",
    "    c = False\n",
    "    while not c:\n",
    "        m = nx.gnm_random_graph(n,e)\n",
    "        c = nx.is_connected(m)\n",
    "    print(planarity.is_planar(m))\n",
    "    return nx.adjacency_matrix(m)"
   ]
  },
  {
   "cell_type": "code",
   "execution_count": null,
   "metadata": {},
   "outputs": [],
   "source": []
  },
  {
   "cell_type": "code",
   "execution_count": null,
   "metadata": {},
   "outputs": [],
   "source": []
  },
  {
   "cell_type": "code",
   "execution_count": 51,
   "metadata": {},
   "outputs": [
    {
     "name": "stdout",
     "output_type": "stream",
     "text": [
      "0\n",
      "10\n",
      "20\n",
      "30\n",
      "40\n",
      "50\n",
      "60\n",
      "70\n",
      "80\n",
      "90\n",
      "100\n",
      "110\n",
      "120\n",
      "130\n",
      "140\n",
      "150\n",
      "160\n",
      "170\n",
      "180\n",
      "190\n",
      "200\n",
      "210\n",
      "220\n",
      "230\n",
      "240\n",
      "250\n",
      "260\n",
      "270\n",
      "280\n",
      "290\n",
      "300\n",
      "310\n",
      "320\n",
      "330\n",
      "340\n",
      "350\n",
      "360\n",
      "370\n",
      "380\n",
      "390\n",
      "400\n",
      "410\n",
      "420\n",
      "430\n",
      "440\n",
      "450\n",
      "460\n",
      "470\n",
      "480\n",
      "490\n"
     ]
    }
   ],
   "source": [
    "\n",
    "dist = np.loadtxt('adj_mats/42_4218_dist.txt',delimiter=',')\n",
    "\n",
    "\n",
    "lap_d  = np.diag(dist.sum(axis=0)) - dist\n",
    "n=dist.shape[0]\n",
    "h = []\n",
    "\n",
    "for i in range(500):\n",
    "    if i%10==0: print(i)\n",
    "    adj = rand_conn_adj_mat(dist.shape[0])\n",
    "    deg = np.diag(adj.sum(axis=0))\n",
    "    lap = deg - adj\n",
    "    evals = np.real(scipy.linalg.eigvals(lap).tolist())\n",
    "    evals = [e for e in evals if e>.1]\n",
    "    for l in evals: h.append(l)\n",
    "\n"
   ]
  },
  {
   "cell_type": "code",
   "execution_count": 52,
   "metadata": {},
   "outputs": [
    {
     "data": {
      "text/plain": [
       "<matplotlib.lines.Line2D at 0x7efc037280b8>"
      ]
     },
     "execution_count": 52,
     "metadata": {},
     "output_type": "execute_result"
    },
    {
     "data": {
      "image/png": "[encoded data removed]",
      "text/plain": [
       "<Figure size 432x288 with 1 Axes>"
      ]
     },
     "metadata": {},
     "output_type": "display_data"
    }
   ],
   "source": [
    "plt.hist(h,density=True,bins=30, range=[0,15])\n",
    "d_e = np.real(scipy.linalg.eigvals(lap_d))\n",
    "random.shuffle(d_e)\n",
    "\n",
    "plt.axvline(min(d_e), color='k', linestyle='dashed', linewidth=1)\n",
    "plt.axvline(max(d_e), color='k', linestyle='dashed', linewidth=1)\n",
    "\n"
   ]
  }
 ],
 "metadata": {
  "kernelspec": {
   "display_name": "Python 3",
   "language": "python",
   "name": "python3"
  },
  "language_info": {
   "codemirror_mode": {
    "name": "ipython",
    "version": 3
   },
   "file_extension": ".py",
   "mimetype": "text/x-python",
   "name": "python",
   "nbconvert_exporter": "python",
   "pygments_lexer": "ipython3",
   "version": "3.6.5"
  }
 },
 "nbformat": 4,
 "nbformat_minor": 2
}
