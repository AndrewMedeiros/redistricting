{
 "cells": [
  {
   "cell_type": "code",
   "execution_count": 1,
   "metadata": {},
   "outputs": [],
   "source": [
    "import numpy as np\n",
    "import scipy.linalg\n",
    "import random\n",
    "import networkx as nx\n",
    "import matplotlib.pyplot as plt\n",
    "import planarity\n",
    "import geopandas as gpd"
   ]
  },
  {
   "cell_type": "code",
   "execution_count": 2,
   "metadata": {},
   "outputs": [],
   "source": [
    "def rand_adj_mat(size=2):\n",
    "    m = np.zeros([size,size])\n",
    "    for i in range(size):\n",
    "        for j in range(i):\n",
    "            b = random.randint(0,1)\n",
    "            m[i,j] = b\n",
    "            m[j,i] = b\n",
    "    return m\n",
    "\n",
    "\n",
    "def rand_conn_adj_mat(size=2):\n",
    "    x  = 0\n",
    "    while x == 0:\n",
    "        m = rand_adj_mat(size)\n",
    "        x = np.prod(scipy.linalg.eigvals(m)[0])\n",
    "    return m\n",
    "\n",
    "def rand_conn_er(size,p):\n",
    "    c = False\n",
    "    while not c:    \n",
    "        m = nx.fast_gnp_random_graph(size,p)\n",
    "        c = nx.is_connected(m)\n",
    "    return nx.adjacency_matrix(m)\n",
    "\n",
    "def rand_conn_nm(n,e):\n",
    "    c = False\n",
    "    while not c:\n",
    "        m = nx.gnm_random_graph(n,e)\n",
    "        c = nx.is_connected(m)\n",
    "    print(planarity.is_planar(m))\n",
    "    return nx.adjacency_matrix(m)"
   ]
  },
  {
   "cell_type": "code",
   "execution_count": null,
   "metadata": {},
   "outputs": [],
   "source": [
    "\n"
   ]
  },
  {
   "cell_type": "code",
   "execution_count": 12,
   "metadata": {},
   "outputs": [
    {
     "name": "stdout",
     "output_type": "stream",
     "text": [
      "145000\n"
     ]
    },
    {
     "data": {
      "text/plain": [
       "(array([1.49330082e-04, 0.00000000e+00, 0.00000000e+00, 0.00000000e+00,\n",
       "        1.49330082e-04, 0.00000000e+00, 0.00000000e+00, 1.04531057e-03,\n",
       "        0.00000000e+00, 0.00000000e+00, 1.79196099e-03, 3.73325205e-03,\n",
       "        4.47990246e-04, 1.79196099e-03, 1.43356879e-02, 5.67454312e-03,\n",
       "        5.07722279e-03, 2.68794148e-02, 3.68845303e-02, 2.37434831e-02,\n",
       "        5.25641889e-02, 9.67658932e-02, 7.97422638e-02, 1.19016075e-01,\n",
       "        1.69340313e-01, 1.72924235e-01, 1.97713029e-01, 2.29968326e-01,\n",
       "        2.66404866e-01, 2.85071127e-01, 2.90297680e-01, 3.39576607e-01,\n",
       "        3.38381966e-01, 3.55106935e-01, 3.68397313e-01, 3.68994633e-01,\n",
       "        3.96919358e-01, 4.00951270e-01, 3.97666009e-01, 4.34998529e-01,\n",
       "        4.23350783e-01, 4.38283791e-01, 4.36790490e-01, 4.41718383e-01,\n",
       "        4.36939820e-01, 4.59637993e-01, 4.53216799e-01, 4.58891342e-01,\n",
       "        4.59787323e-01, 4.54859430e-01, 4.66955167e-01, 4.66059186e-01,\n",
       "        4.73675020e-01, 4.58294022e-01, 4.56950051e-01, 4.58891342e-01,\n",
       "        4.60384643e-01, 4.46496945e-01, 4.55158090e-01, 4.52619479e-01,\n",
       "        4.56352731e-01, 4.33355898e-01, 4.23350783e-01, 4.22902792e-01,\n",
       "        4.13942988e-01, 4.14092318e-01, 3.99308640e-01, 3.87810223e-01,\n",
       "        3.69741283e-01, 3.65112051e-01, 3.36739335e-01, 3.38829956e-01,\n",
       "        3.19715706e-01, 2.99108154e-01, 2.75961992e-01, 2.57743722e-01,\n",
       "        2.32805598e-01, 1.87110593e-01, 1.84721312e-01, 1.55900606e-01,\n",
       "        1.02440436e-01, 8.79554183e-02, 9.01953696e-02, 4.62923254e-02,\n",
       "        1.95622408e-02, 4.27084035e-02, 1.70236294e-02, 1.79196099e-03,\n",
       "        1.16477464e-02, 9.25846509e-03, 8.95980493e-04, 1.49330082e-04,\n",
       "        4.62923254e-03, 5.97320328e-04, 0.00000000e+00, 4.47990246e-04,\n",
       "        8.95980493e-04, 0.00000000e+00, 0.00000000e+00, 2.98660164e-04]),\n",
       " array([0.34492216, 0.39110543, 0.4372887 , 0.48347198, 0.52965525,\n",
       "        0.57583852, 0.62202179, 0.66820506, 0.71438833, 0.76057161,\n",
       "        0.80675488, 0.85293815, 0.89912142, 0.94530469, 0.99148796,\n",
       "        1.03767123, 1.08385451, 1.13003778, 1.17622105, 1.22240432,\n",
       "        1.26858759, 1.31477086, 1.36095413, 1.40713741, 1.45332068,\n",
       "        1.49950395, 1.54568722, 1.59187049, 1.63805376, 1.68423704,\n",
       "        1.73042031, 1.77660358, 1.82278685, 1.86897012, 1.91515339,\n",
       "        1.96133666, 2.00751994, 2.05370321, 2.09988648, 2.14606975,\n",
       "        2.19225302, 2.23843629, 2.28461956, 2.33080284, 2.37698611,\n",
       "        2.42316938, 2.46935265, 2.51553592, 2.56171919, 2.60790247,\n",
       "        2.65408574, 2.70026901, 2.74645228, 2.79263555, 2.83881882,\n",
       "        2.88500209, 2.93118537, 2.97736864, 3.02355191, 3.06973518,\n",
       "        3.11591845, 3.16210172, 3.20828499, 3.25446827, 3.30065154,\n",
       "        3.34683481, 3.39301808, 3.43920135, 3.48538462, 3.5315679 ,\n",
       "        3.57775117, 3.62393444, 3.67011771, 3.71630098, 3.76248425,\n",
       "        3.80866752, 3.8548508 , 3.90103407, 3.94721734, 3.99340061,\n",
       "        4.03958388, 4.08576715, 4.13195042, 4.1781337 , 4.22431697,\n",
       "        4.27050024, 4.31668351, 4.36286678, 4.40905005, 4.45523333,\n",
       "        4.5014166 , 4.54759987, 4.59378314, 4.63996641, 4.68614968,\n",
       "        4.73233295, 4.77851623, 4.8246995 , 4.87088277, 4.91706604,\n",
       "        4.96324931]),\n",
       " <a list of 100 Patch objects>)"
      ]
     },
     "execution_count": 12,
     "metadata": {},
     "output_type": "execute_result"
    },
    {
     "data": {
      "image/png": "[encoded data removed]",
      "text/plain": [
       "<Figure size 432x288 with 1 Axes>"
      ]
     },
     "metadata": {},
     "output_type": "display_data"
    }
   ],
   "source": [
    "\n",
    "\n",
    "h = []\n",
    "for i in range(5000):\n",
    "    adj = rand_conn_adj_mat(30)\n",
    "    deg = np.diag(adj.sum(axis=0))\n",
    "    lap = deg - adj\n",
    "    evals = np.real(scipy.linalg.eigvals(lap).tolist())\n",
    "    evals = [x for x in evals if x>0]\n",
    "    deg_list = adj.sum(axis=0).tolist()\n",
    "    #h += deg_list\n",
    "    for l in evals: \n",
    "        if l>.000001: h.append(l/np.sqrt(30))\n",
    "print(len(h))\n",
    "\n",
    "plt.hist(h,density=True,bins = 100)\n",
    "#plt.hist(h,density=True,bins=30, range=[0,15])\n"
   ]
  },
  {
   "cell_type": "code",
   "execution_count": 4,
   "metadata": {},
   "outputs": [
    {
     "ename": "NameError",
     "evalue": "name 'd_e' is not defined",
     "output_type": "error",
     "traceback": [
      "\u001b[0;31m---------------------------------------------------------------------------\u001b[0m",
      "\u001b[0;31mNameError\u001b[0m                                 Traceback (most recent call last)",
      "\u001b[0;32m<ipython-input-4-e733a9e4ce03>\u001b[0m in \u001b[0;36m<module>\u001b[0;34m()\u001b[0m\n\u001b[1;32m      1\u001b[0m \u001b[0mplt\u001b[0m\u001b[0;34m.\u001b[0m\u001b[0mhist\u001b[0m\u001b[0;34m(\u001b[0m\u001b[0mh\u001b[0m\u001b[0;34m,\u001b[0m\u001b[0mdensity\u001b[0m\u001b[0;34m=\u001b[0m\u001b[0;32mTrue\u001b[0m\u001b[0;34m,\u001b[0m\u001b[0mbins\u001b[0m\u001b[0;34m=\u001b[0m\u001b[0;36m30\u001b[0m\u001b[0;34m,\u001b[0m \u001b[0mrange\u001b[0m\u001b[0;34m=\u001b[0m\u001b[0;34m[\u001b[0m\u001b[0;36m0\u001b[0m\u001b[0;34m,\u001b[0m\u001b[0;36m15\u001b[0m\u001b[0;34m]\u001b[0m\u001b[0;34m)\u001b[0m\u001b[0;34m\u001b[0m\u001b[0m\n\u001b[0;32m----> 2\u001b[0;31m \u001b[0mrandom\u001b[0m\u001b[0;34m.\u001b[0m\u001b[0mshuffle\u001b[0m\u001b[0;34m(\u001b[0m\u001b[0md_e\u001b[0m\u001b[0;34m)\u001b[0m\u001b[0;34m\u001b[0m\u001b[0m\n\u001b[0m\u001b[1;32m      3\u001b[0m \u001b[0;34m\u001b[0m\u001b[0m\n\u001b[1;32m      4\u001b[0m \u001b[0mplt\u001b[0m\u001b[0;34m.\u001b[0m\u001b[0maxvline\u001b[0m\u001b[0;34m(\u001b[0m\u001b[0mmin\u001b[0m\u001b[0;34m(\u001b[0m\u001b[0md_e\u001b[0m\u001b[0;34m)\u001b[0m\u001b[0;34m,\u001b[0m \u001b[0mcolor\u001b[0m\u001b[0;34m=\u001b[0m\u001b[0;34m'k'\u001b[0m\u001b[0;34m,\u001b[0m \u001b[0mlinestyle\u001b[0m\u001b[0;34m=\u001b[0m\u001b[0;34m'dashed'\u001b[0m\u001b[0;34m,\u001b[0m \u001b[0mlinewidth\u001b[0m\u001b[0;34m=\u001b[0m\u001b[0;36m1\u001b[0m\u001b[0;34m)\u001b[0m\u001b[0;34m\u001b[0m\u001b[0m\n\u001b[1;32m      5\u001b[0m \u001b[0mplt\u001b[0m\u001b[0;34m.\u001b[0m\u001b[0maxvline\u001b[0m\u001b[0;34m(\u001b[0m\u001b[0mmax\u001b[0m\u001b[0;34m(\u001b[0m\u001b[0md_e\u001b[0m\u001b[0;34m)\u001b[0m\u001b[0;34m,\u001b[0m \u001b[0mcolor\u001b[0m\u001b[0;34m=\u001b[0m\u001b[0;34m'k'\u001b[0m\u001b[0;34m,\u001b[0m \u001b[0mlinestyle\u001b[0m\u001b[0;34m=\u001b[0m\u001b[0;34m'dashed'\u001b[0m\u001b[0;34m,\u001b[0m \u001b[0mlinewidth\u001b[0m\u001b[0;34m=\u001b[0m\u001b[0;36m1\u001b[0m\u001b[0;34m)\u001b[0m\u001b[0;34m\u001b[0m\u001b[0m\n",
      "\u001b[0;31mNameError\u001b[0m: name 'd_e' is not defined"
     ]
    },
    {
     "data": {
      "image/png": "[encoded data removed]",
      "text/plain": [
       "<Figure size 432x288 with 1 Axes>"
      ]
     },
     "metadata": {},
     "output_type": "display_data"
    }
   ],
   "source": [
    "plt.hist(h,density=True,bins=30, range=[0,15])\n",
    "random.shuffle(d_e)\n",
    "\n",
    "plt.axvline(min(d_e), color='k', linestyle='dashed', linewidth=1)\n",
    "plt.axvline(max(d_e), color='k', linestyle='dashed', linewidth=1)\n",
    "\n",
    "\n",
    "\n",
    "random.shuffle(d_e)\n",
    "\n",
    "plt.axvline(min(d_e), color='k', linestyle='dashed', linewidth=1)\n",
    "plt.axvline(max(d_e), color='k', linestyle='dashed', linewidth=1)"
   ]
  },
  {
   "cell_type": "code",
   "execution_count": 13,
   "metadata": {},
   "outputs": [],
   "source": [
    "new_vals = []\n",
    "maxes = {}\n",
    "mins = {}\n",
    "means = {}\n",
    "medians = {}\n",
    "df_cd = gpd.read_file('cd_us.shp')\n",
    "state_no='all'\n",
    "# (somewhat unnecessarily) loop over all rows in the DataFrame\n",
    "for ind, row in df_cd.iterrows():\n",
    "\n",
    "    # grab the identifying information\n",
    "    fcode = row['STATECD']\n",
    "    st = row['STATEFP']\n",
    "    fn = fcode[0:2]+'_'+fcode\n",
    "\n",
    "    # if this row is something we need to compute:\n",
    "\n",
    "    if st==state_no or state_no=='all':\n",
    "    # read in the corresponding district's adjacency matrix\n",
    "        # [see README in the adj_mats folder for more info]\n",
    "        adj = np.loadtxt('adj_mats/'+fn+'_dist.txt',\n",
    "                         delimiter=',')\n",
    "\n",
    "        # make sure it's an integer matrix\n",
    "        adj = adj.astype(int)\n",
    "\n",
    "        g = nx.from_numpy_matrix(adj)\n",
    "        # you can build a laplacian matrix\n",
    "        deg = np.diag(adj.sum(axis=0))\n",
    "        lap = deg - adj\n",
    "        evals = np.real(scipy.linalg.eigvals(lap)).tolist()\n",
    "        evals = [x for x in evals if x>0]\n",
    "        new_vals += adj.sum(axis=0).tolist()\n",
    "        maxes[fcode] = np.max(evals)\n",
    "        mins[fcode] = np.min(evals)\n",
    "        means[fcode] = np.mean(evals)\n",
    "        medians[fcode] = np.median(evals)\n",
    "        \n",
    "        "
   ]
  },
  {
   "cell_type": "code",
   "execution_count": 10,
   "metadata": {},
   "outputs": [
    {
     "ename": "NameError",
     "evalue": "name 'new_vals' is not defined",
     "output_type": "error",
     "traceback": [
      "\u001b[0;31m---------------------------------------------------------------------------\u001b[0m",
      "\u001b[0;31mNameError\u001b[0m                                 Traceback (most recent call last)",
      "\u001b[0;32m<ipython-input-10-32ea1de8e764>\u001b[0m in \u001b[0;36m<module>\u001b[0;34m()\u001b[0m\n\u001b[1;32m     22\u001b[0m \u001b[0;31m#for c in d_t[:20]: plt.axvline(c, color='r', linestyle='dashed', linewidth=1)\u001b[0m\u001b[0;34m\u001b[0m\u001b[0;34m\u001b[0m\u001b[0m\n\u001b[1;32m     23\u001b[0m \u001b[0mplt\u001b[0m\u001b[0;34m.\u001b[0m\u001b[0mfigure\u001b[0m\u001b[0;34m(\u001b[0m\u001b[0mfigsize\u001b[0m\u001b[0;34m=\u001b[0m\u001b[0;34m(\u001b[0m\u001b[0;36m12\u001b[0m\u001b[0;34m,\u001b[0m\u001b[0;36m12\u001b[0m\u001b[0;34m)\u001b[0m\u001b[0;34m)\u001b[0m\u001b[0;34m\u001b[0m\u001b[0m\n\u001b[0;32m---> 24\u001b[0;31m \u001b[0mplt\u001b[0m\u001b[0;34m.\u001b[0m\u001b[0mhist\u001b[0m\u001b[0;34m(\u001b[0m\u001b[0mnew_vals\u001b[0m\u001b[0;34m,\u001b[0m \u001b[0mcolor\u001b[0m \u001b[0;34m=\u001b[0m \u001b[0;34m'green'\u001b[0m\u001b[0;34m,\u001b[0m \u001b[0mdensity\u001b[0m \u001b[0;34m=\u001b[0m \u001b[0;32mTrue\u001b[0m\u001b[0;34m,\u001b[0m \u001b[0mbins\u001b[0m\u001b[0;34m=\u001b[0m\u001b[0;36m100\u001b[0m\u001b[0;34m,\u001b[0m\u001b[0mrange\u001b[0m\u001b[0;34m=\u001b[0m\u001b[0;34m[\u001b[0m\u001b[0;36m0\u001b[0m\u001b[0;34m,\u001b[0m\u001b[0;36m25\u001b[0m\u001b[0;34m]\u001b[0m\u001b[0;34m)\u001b[0m\u001b[0;34m\u001b[0m\u001b[0m\n\u001b[0m\u001b[1;32m     25\u001b[0m \u001b[0;31m#plt.hist(d_e, bins=10, alpha=.3, density=True, color='green',range=[0,25])\u001b[0m\u001b[0;34m\u001b[0m\u001b[0;34m\u001b[0m\u001b[0m\n\u001b[1;32m     26\u001b[0m \u001b[0;31m#plt.hist(d_t, bins=10, alpha = .3, density= True, color='red',range=[0,25])\u001b[0m\u001b[0;34m\u001b[0m\u001b[0;34m\u001b[0m\u001b[0m\n",
      "\u001b[0;31mNameError\u001b[0m: name 'new_vals' is not defined"
     ]
    },
    {
     "data": {
      "text/plain": [
       "<Figure size 864x864 with 0 Axes>"
      ]
     },
     "metadata": {},
     "output_type": "display_data"
    }
   ],
   "source": [
    "\n",
    "dist = np.loadtxt('adj_mats/17_1715_dist.txt',delimiter=',')\n",
    "lap_d  = np.diag(dist.sum(axis=0)) - dist\n",
    "d_e = np.real(scipy.linalg.eigvals(lap_d))\n",
    "\n",
    "dist = np.loadtxt('adj_mats/17_1704_dist.txt',delimiter=',')\n",
    "lap_d  = np.diag(dist.sum(axis=0)) - dist\n",
    "d_t = np.real(scipy.linalg.eigvals(lap_d))\n",
    "\n",
    "\n",
    "d_e = [x for x in d_e if x>0]\n",
    "d_t = [x for x in d_t if x>0]\n",
    "\n",
    "\n",
    "\n",
    "#plt.hist(new_vals, density=True, bins=100, range = [0,30])\n",
    "random.shuffle(d_e)\n",
    "random.shuffle(d_t)\n",
    "\n",
    "\n",
    "#for c in d_e[:20]: plt.axvline(c, color='k', linestyle='dashed', linewidth=1)\n",
    "#for c in d_t[:20]: plt.axvline(c, color='r', linestyle='dashed', linewidth=1)\n",
    "plt.figure(figsize=(12,12))\n",
    "plt.hist(new_vals, color = 'green', density = True, bins=100,range=[0,25])\n",
    "#plt.hist(d_e, bins=10, alpha=.3, density=True, color='green',range=[0,25])\n",
    "#plt.hist(d_t, bins=10, alpha = .3, density= True, color='red',range=[0,25])\n",
    "#plt.hist(new_vals, bins=20, alpha=.3, density=True, color='blue', range=[0,25])\n",
    "\n",
    "#plt.hist(maxes.values(),bins=200, color='blue', alpha = .5)\n",
    "#plt.hist([x for x in mins.values()],bins=200, color='red', alpha = .5)\n"
   ]
  },
  {
   "cell_type": "code",
   "execution_count": null,
   "metadata": {},
   "outputs": [],
   "source": []
  }
 ],
 "metadata": {
  "kernelspec": {
   "display_name": "Python 3",
   "language": "python",
   "name": "python3"
  },
  "language_info": {
   "codemirror_mode": {
    "name": "ipython",
    "version": 3
   },
   "file_extension": ".py",
   "mimetype": "text/x-python",
   "name": "python",
   "nbconvert_exporter": "python",
   "pygments_lexer": "ipython3",
   "version": "3.6.5"
  }
 },
 "nbformat": 4,
 "nbformat_minor": 2
}
