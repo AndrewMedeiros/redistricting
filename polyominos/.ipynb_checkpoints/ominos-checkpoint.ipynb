{
 "cells": [
  {
   "cell_type": "code",
   "execution_count": 1,
   "metadata": {},
   "outputs": [],
   "source": [
    "import numpy as np\n",
    "import math\n",
    "import itertools\n",
    "import time\n",
    "from multiprocessing import Pool\n",
    "import scipy.sparse"
   ]
  },
  {
   "cell_type": "code",
   "execution_count": 2,
   "metadata": {},
   "outputs": [],
   "source": [
    "#Given an omino (nxn binary matrix), checks if it is valid\n",
    "# i.e. all ones are rook-adjacent and contiguous\n",
    "\n",
    "def valid_omino(omino):\n",
    "    k = omino.shape[0]\n",
    "    check = np.zeros([k,k]) - omino\n",
    "    \n",
    "    \n",
    "    _f  = False\n",
    "    for i in range(k):\n",
    "        for j in range(k):\n",
    "            if check[i,j] == -1:\n",
    "                if not _f:\n",
    "                    _f  = True\n",
    "                    check[i,j] = 1\n",
    "    if not _f:\n",
    "        print(\"ABORT\")\n",
    "        return\n",
    "    \n",
    "    for iter in range(15):\n",
    "        for i in range(k):\n",
    "            for j in range(k):\n",
    "                if check[i,j] == 1:\n",
    "                    if i != 0:\n",
    "                        check[i-1,j] = check[i-1,j]**2\n",
    "\n",
    "\n",
    "                    if i != k-1:\n",
    "                        check[i+1,j] = check[i+1,j]**2\n",
    "\n",
    "                    if j != 0:\n",
    "                        check[i,j-1] = check[i,j-1]**2\n",
    "\n",
    "                    if j != k-1:\n",
    "                        check[i,j+1] = check[i,j+1]**2\n",
    "                    \n",
    "    return np.sum(check) == np.sum(omino)\n",
    "                        \n",
    "    \n",
    "\n"
   ]
  },
  {
   "cell_type": "code",
   "execution_count": 3,
   "metadata": {},
   "outputs": [],
   "source": [
    "# given a list of (r,c) index pairs, generates an omino\n",
    "# if the omino isn't valid, returns the 0x0 0 matrix\n",
    "def make_omino(inds):\n",
    "    dim = len(inds)\n",
    "    p = np.zeros([dim,dim])\n",
    "    for loc in inds:\n",
    "        p[loc[0],loc[1]] = 1\n",
    "    \n",
    "    if valid_omino(p):\n",
    "        return p\n",
    "    else:\n",
    "        return np.zeros([0,0])"
   ]
  },
  {
   "cell_type": "code",
   "execution_count": 4,
   "metadata": {},
   "outputs": [],
   "source": [
    "# generates all of the <cells>-ominos in the <grid>^2 grid\n",
    "# WARNING - not tested for cells != grid\n",
    "def make_omino_set(cells, grid):\n",
    "    \n",
    "    \n",
    "    if grid % cells != 0:\n",
    "        print(\"WARNING - <cells> must divide <grid>\")\n",
    "        return []\n",
    "    \n",
    "    \n",
    "    pair_idx = []\n",
    "    for i in range(grid):\n",
    "        for j in range(grid):\n",
    "            pair_idx.append((i,j))\n",
    "    \n",
    "    \n",
    "    ominos = []\n",
    "    \n",
    "    for t in (l for l in itertools.combinations(pair_idx, cells)):\n",
    "        p = make_omino(t)\n",
    "        if p.shape[0] != 0:\n",
    "            ominos.append(p)\n",
    "    \n",
    "    return ominos\n",
    "        "
   ]
  },
  {
   "cell_type": "code",
   "execution_count": 5,
   "metadata": {},
   "outputs": [
    {
     "name": "stdout",
     "output_type": "stream",
     "text": [
      "113\n",
      "[]\n"
     ]
    }
   ],
   "source": [
    "# make the 4x4 ominos\n",
    "n = make_omino_set(4,4)\n",
    "print(len(n))\n",
    "print([np.sum(x) for x in n if np.sum(x) != 4])\n"
   ]
  },
  {
   "cell_type": "code",
   "execution_count": null,
   "metadata": {},
   "outputs": [],
   "source": [
    "# check them\n",
    "counter = 0\n",
    "found = 0\n",
    "ones = np.ones([4,4])\n",
    "print(ones)\n",
    "val = []\n",
    "t = time.time()\n",
    "for part in itertools.combinations(n,4):\n",
    "\n",
    "    counter += 1\n",
    "    if np.prod(sum(part)) == 1:\n",
    "        found +=1\n",
    "        val.append(part)\n",
    "\n",
    "\n",
    "np.save(\"parts_4-4\", val)        \n",
    "print(\"FOUND: \" + str(found))\n",
    "print(time.time() - t)"
   ]
  },
  {
   "cell_type": "code",
   "execution_count": null,
   "metadata": {},
   "outputs": [],
   "source": [
    "# do the 5x5\n",
    "n = make_omino_set(5,5)\n",
    "print(len(n))\n",
    "print([np.sum(x) for x in n if np.sum(x) != 5])"
   ]
  },
  {
   "cell_type": "code",
   "execution_count": null,
   "metadata": {},
   "outputs": [],
   "source": [
    "# build up to pairs and triples and 4s\n",
    "counter = 0\n",
    "found = 0\n",
    "ones = np.ones([5,5])\n",
    "print(ones)\n",
    "val = []\n",
    "t = time.time()\n",
    "\n",
    "pairs = [x for x in itertools.combinations(n,2) if 2 not in sum(x)]\n",
    "trips = []\n",
    "counter = 0\n",
    "for p in pairs:\n",
    "    for o in n:\n",
    "        counter+=1\n",
    "        if counter % 1000000 == 0: print(counter/1000000)\n",
    "        t = p + (o,)\n",
    "        if 2 not in sum(t):\n",
    "            trips.append(t)\n",
    "            \n",
    "counter = 0\n",
    "quads = []\n",
    "for t in trips:\n",
    "    for o in n:\n",
    "        counter +=1\n",
    "        if counter % 1000000 == 0: print(counter/1000000)\n",
    "        q = t + (o,)\n",
    "        if 2 not in sum(q):\n",
    "            quads.append(q)"
   ]
  },
  {
   "cell_type": "code",
   "execution_count": null,
   "metadata": {},
   "outputs": [],
   "source": [
    "# build 4s         \n",
    "print(len(quads))\n",
    "found = 0\n",
    "valid_quads = []\n",
    "counter = 0\n",
    "for q in quads:\n",
    "    counter += 1\n",
    "    if counter % 100000 == 0:\n",
    "        print(counter/100000, found)\n",
    "    if valid_omino(ones-sum(q)):\n",
    "        valid_quads.append(q)\n",
    "        found += 1\n",
    "    "
   ]
  },
  {
   "cell_type": "code",
   "execution_count": null,
   "metadata": {},
   "outputs": [],
   "source": [
    "# build the valid partitions and check uniqueness\n",
    "partitions = [ q + (ones-sum(q),) for q in valid_quads  ]\n",
    "print(len(partitions))\n",
    "np.save(\"parts_5-5\",partitions)\n",
    "mat = np.load(\"parts_5-5.npy\")\n",
    "mat2 = np.sort(mat)\n",
    "counter = 0\n",
    "print(len(mat),len(mat2), len(mat3))\n",
    "final_parts = []\n",
    "for x in mat2:\n",
    "    counter +=1\n",
    "    if counter%10000 ==0: print(counter/10000)\n",
    "    if len([y for y in final_parts if np.array_equiv(x,y)]) ==0:\n",
    "        final_parts.append(x)\n",
    "np.save(\"final_parts_5-5\", final_parts)"
   ]
  }
 ],
 "metadata": {
  "kernelspec": {
   "display_name": "Python 3",
   "language": "python",
   "name": "python3"
  },
  "language_info": {
   "codemirror_mode": {
    "name": "ipython",
    "version": 3
   },
   "file_extension": ".py",
   "mimetype": "text/x-python",
   "name": "python",
   "nbconvert_exporter": "python",
   "pygments_lexer": "ipython3",
   "version": "3.6.5"
  }
 },
 "nbformat": 4,
 "nbformat_minor": 2
}
