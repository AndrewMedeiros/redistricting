{
 "cells": [
  {
   "cell_type": "code",
   "execution_count": null,
   "metadata": {},
   "outputs": [],
   "source": [
    "import numpy as np\n",
    "import math\n",
    "import itertools\n",
    "import time\n",
    "from multiprocessing import Pool\n",
    "import scipy.sparse\n",
    "from IPython.display import clear_output\n",
    "from multiprocessing.dummy import Pool as ThreadPool"
   ]
  },
  {
   "cell_type": "code",
   "execution_count": null,
   "metadata": {},
   "outputs": [],
   "source": [
    "#Given an omino (nxn binary matrix), checks if it is valid\n",
    "# i.e. all ones are rook-adjacent and contiguous\n",
    "\n",
    "def valid_omino(omino):\n",
    "    k = omino.shape[0]\n",
    "    check = np.zeros([k,k]) - omino\n",
    "    \n",
    "    \n",
    "    _f  = False\n",
    "    for i in range(k):\n",
    "        for j in range(k):\n",
    "            if check[i,j] == -1:\n",
    "                if not _f:\n",
    "                    _f  = True\n",
    "                    check[i,j] = 1\n",
    "    if not _f:\n",
    "        print(\"ABORT\")\n",
    "        return\n",
    "    \n",
    "    for iter in range(15):\n",
    "        for i in range(k):\n",
    "            for j in range(k):\n",
    "                if check[i,j] == 1:\n",
    "                    if i != 0:\n",
    "                        check[i-1,j] = check[i-1,j]**2\n",
    "\n",
    "\n",
    "                    if i != k-1:\n",
    "                        check[i+1,j] = check[i+1,j]**2\n",
    "\n",
    "                    if j != 0:\n",
    "                        check[i,j-1] = check[i,j-1]**2\n",
    "\n",
    "                    if j != k-1:\n",
    "                        check[i,j+1] = check[i,j+1]**2\n",
    "                    \n",
    "    return np.sum(check) == np.sum(omino)\n",
    "                        \n",
    "    \n",
    "\n"
   ]
  },
  {
   "cell_type": "code",
   "execution_count": null,
   "metadata": {},
   "outputs": [],
   "source": [
    "# given a list of (r,c) index pairs, generates an omino\n",
    "# if the omino isn't valid, returns the 0x0 0 matrix\n",
    "def make_omino(inds):\n",
    "    dim = len(inds)\n",
    "    p = np.zeros([dim,dim])\n",
    "    for loc in inds:\n",
    "        p[loc[0],loc[1]] = 1\n",
    "    \n",
    "    if valid_omino(p):\n",
    "        return p\n",
    "    else:\n",
    "        return np.zeros([0,0])"
   ]
  },
  {
   "cell_type": "code",
   "execution_count": null,
   "metadata": {},
   "outputs": [],
   "source": [
    "# generates all of the <cells>-ominos in the <grid>^2 grid\n",
    "# WARNING - not tested for cells != grid\n",
    "def make_omino_set(cells, grid):\n",
    "    \n",
    "    \n",
    "    if grid % cells != 0:\n",
    "        print(\"WARNING - <cells> must divide <grid>\")\n",
    "        return []\n",
    "    \n",
    "    \n",
    "    pair_idx = []\n",
    "    for i in range(grid):\n",
    "        for j in range(grid):\n",
    "            pair_idx.append((i,j))\n",
    "    \n",
    "    \n",
    "    ominos = []\n",
    "    \n",
    "    for t in (l for l in itertools.combinations(pair_idx, cells)):\n",
    "        p = make_omino(t)\n",
    "        if p.shape[0] != 0:\n",
    "            ominos.append(p)\n",
    "    \n",
    "    return ominos\n",
    "        "
   ]
  },
  {
   "cell_type": "code",
   "execution_count": null,
   "metadata": {},
   "outputs": [],
   "source": [
    "# make the 4x4 ominos\n",
    "n = make_omino_set(4,4)\n",
    "print(len(n))\n",
    "print([np.sum(x) for x in n if np.sum(x) != 4])\n"
   ]
  },
  {
   "cell_type": "code",
   "execution_count": null,
   "metadata": {},
   "outputs": [],
   "source": [
    "# check them\n",
    "counter = 0\n",
    "found = 0\n",
    "ones = np.ones([4,4])\n",
    "val = []\n",
    "t = time.time()\n",
    "for part in itertools.combinations(n,4):\n",
    "\n",
    "    counter += 1\n",
    "    if np.prod(sum(part)) == 1:\n",
    "        found +=1\n",
    "        val.append(part)\n",
    "\n",
    "\n",
    "np.save(\"parts_4-4\", val)        \n",
    "print(\"FOUND: \" + str(found))\n",
    "print(time.time() - t)"
   ]
  },
  {
   "cell_type": "code",
   "execution_count": null,
   "metadata": {},
   "outputs": [],
   "source": [
    "# do the 5x5\n",
    "n = make_omino_set(5,5)\n",
    "print(len(n))\n",
    "print([np.sum(x) for x in n if np.sum(x) != 5])"
   ]
  },
  {
   "cell_type": "code",
   "execution_count": null,
   "metadata": {},
   "outputs": [],
   "source": [
    "\n",
    "\n",
    "\n",
    "inds = range(len(n))\n",
    "tic = time.time()\n",
    "pairs_inds = [x for x in itertools.combinations(inds,2) if 2 not in n[x[0]]+n[x[1]]]\n",
    "\n",
    "\n",
    "print(time.time()-tic)"
   ]
  },
  {
   "cell_type": "code",
   "execution_count": null,
   "metadata": {},
   "outputs": [],
   "source": [
    "tic = time.time()\n",
    "def make_trips(inx):\n",
    "    val_trips = []\n",
    "    counter = 0\n",
    "    global pairs_inds\n",
    "    for d in pairs_inds:\n",
    "        c=inx\n",
    "        counter +=1\n",
    "        #if counter%10000 == 0: print(counter/10000)\n",
    "        q = set(d+(c,))\n",
    "        if len(q) == 3 and c>max(d):\n",
    "            check  = sum([n[i] for i in q])\n",
    "            if 2 not in check: val_trips.append(tuple(q))\n",
    "    #print(\"returning on \",inx)\n",
    "    return val_trips\n",
    "pool = ThreadPool(8)\n",
    "results = pool.map(make_trips,inds)\n",
    "trips_inds  = [item for sublist in results for item in sublist]\n",
    "trips_inds = list(set([tuple(sorted(j)) for j in trips_inds]))\n",
    "print(time.time()-tic, len(trips_inds))"
   ]
  },
  {
   "cell_type": "code",
   "execution_count": null,
   "metadata": {},
   "outputs": [],
   "source": []
  },
  {
   "cell_type": "code",
   "execution_count": null,
   "metadata": {},
   "outputs": [],
   "source": [
    "tic = time.time()\n",
    "def make_quads(inx):\n",
    "    val_quads = []\n",
    "    counter = 0\n",
    "    global trips_inds\n",
    "    for t in trips_inds:\n",
    "        c=inx\n",
    "        counter +=1\n",
    "        #if counter%10000 == 0: print(counter/10000)\n",
    "        p = set(t+(c,))\n",
    "        if len(p) == 4 and c>max(t):\n",
    "            check  = sum([n[i] for i in p])\n",
    "            if 2 not in check: val_quads.append(tuple(p))\n",
    "    if inx%10==0: print(\"returning on \",inx)\n",
    "    return val_quads\n",
    "pool = ThreadPool(8)\n",
    "results = pool.map(make_quads,inds)\n",
    "quads_inds = [item for sublist in results for item in sublist]\n",
    "quads_inds = list(set([tuple(sorted(j)) for j in quads_inds]))\n",
    "print(time.time()-tic, len(quads_inds))"
   ]
  },
  {
   "cell_type": "code",
   "execution_count": null,
   "metadata": {},
   "outputs": [],
   "source": [
    "val_quads_check = []\n",
    "val_quads_e = list(set([tuple(sorted(q)) for q in quads_inds]))\n",
    "print(len(val_quads_e))\n",
    "counter = 0\n",
    "ones = np.ones([5,5])\n",
    "tic = time.time()\n",
    "for q in val_quads_e:\n",
    "    counter += 1\n",
    "    if counter%10000 == 0: print(counter/10000)\n",
    "    check = sum([n[i] for i in q])\n",
    "    if valid_omino(ones-check): val_quads_check.append(q)\n",
    "print(time.time()-tic, len(val_quads_check))"
   ]
  },
  {
   "cell_type": "code",
   "execution_count": null,
   "metadata": {},
   "outputs": [],
   "source": [
    "tic = time.time()\n",
    "valid_partitions = []\n",
    "counter = 0\n",
    "for q in val_quads_check:\n",
    "    for inx in inds:\n",
    "        counter +=1\n",
    "        if counter%1000000 == 0: print(counter/1000000)\n",
    "        if inx>max(q):\n",
    "            p = q +(inx,)\n",
    "            check  = sum([n[i] for i in p])\n",
    "            if 2 not in check: valid_partitions.append(tuple(p))\n",
    "print(time.time()-tic, len(valid_partitions))"
   ]
  },
  {
   "cell_type": "code",
   "execution_count": null,
   "metadata": {},
   "outputs": [],
   "source": [
    "np.save(\"parts_5-5\",valid_partitions)\n"
   ]
  },
  {
   "cell_type": "code",
   "execution_count": null,
   "metadata": {},
   "outputs": [],
   "source": []
  },
  {
   "cell_type": "code",
   "execution_count": null,
   "metadata": {},
   "outputs": [],
   "source": []
  }
 ],
 "metadata": {
  "kernelspec": {
   "display_name": "Python 3",
   "language": "python",
   "name": "python3"
  },
  "language_info": {
   "codemirror_mode": {
    "name": "ipython",
    "version": 3
   },
   "file_extension": ".py",
   "mimetype": "text/x-python",
   "name": "python",
   "nbconvert_exporter": "python",
   "pygments_lexer": "ipython3",
   "version": "3.6.5"
  }
 },
 "nbformat": 4,
 "nbformat_minor": 2
}
